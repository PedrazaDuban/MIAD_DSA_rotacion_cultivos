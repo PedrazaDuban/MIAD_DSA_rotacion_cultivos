# Utilice este espacio para escribir el código.
import pandas as pd
import numpy as np
import geopandas as gpd
import matplotlib.pyplot as plt

